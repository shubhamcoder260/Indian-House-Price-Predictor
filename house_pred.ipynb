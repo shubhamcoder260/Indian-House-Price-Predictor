{
 "cells": [
  {
   "cell_type": "code",
   "execution_count": 4,
   "id": "4674415a",
   "metadata": {},
   "outputs": [
    {
     "name": "stdout",
     "output_type": "stream",
     "text": [
      "   number of bedrooms  number of bathrooms  living area  lot area  \\\n",
      "0            0.786585             0.631846     1.228013 -0.497591   \n",
      "1            1.965260             0.992094     1.214920 -0.059280   \n",
      "2            0.786585             0.631846     1.738648  2.621614   \n",
      "3           -0.392091            -0.088649     0.953055 -0.457599   \n",
      "4           -0.392091             0.631846     0.809030 -0.437603   \n",
      "\n",
      "   number of floors  waterfront present  number of views  \\\n",
      "0           0.01303                 0.0        -0.226341   \n",
      "1           0.01303                 0.0        -0.226341   \n",
      "2           0.93612                 0.0        -0.226341   \n",
      "3           0.01303                 0.0        -0.226341   \n",
      "4          -0.91006                 0.0        -0.226341   \n",
      "\n",
      "   condition of the house  grade of the house  \\\n",
      "0                2.346761            0.396071   \n",
      "1               -0.669658            0.396071   \n",
      "2               -0.669658            1.343847   \n",
      "3                0.838551            0.396071   \n",
      "4                0.838551            1.343847   \n",
      "\n",
      "   Area of the house(excluding basement)  Area of the basement  Built Year  \\\n",
      "0                               0.255718              1.917068   -2.167971   \n",
      "1                               1.620993             -0.662521   -1.136192   \n",
      "2                               2.167103             -0.662521    0.996151   \n",
      "3                               0.214760              1.457339   -1.480118   \n",
      "4                              -0.030990              1.636122   -0.723480   \n",
      "\n",
      "   Renovation Year  Lattitude  Longitude  Number of schools nearby  \\\n",
      "0              0.0   0.678938  -0.468352                 -0.013715   \n",
      "1              0.0   0.660244  -0.452889                 -1.236730   \n",
      "2              0.0   1.149149   0.683637                  1.209300   \n",
      "3              0.0   0.800445  -0.584324                 -1.236730   \n",
      "4              0.0   0.862277  -1.396128                 -1.236730   \n",
      "\n",
      "   Distance from the airport      Price  \n",
      "0                  -1.561396  14.151984  \n",
      "1                  -1.337595  13.997833  \n",
      "2                   1.236119  13.638775  \n",
      "3                  -1.561396  13.598599  \n",
      "4                   0.229014  13.579789  \n"
     ]
    }
   ],
   "source": [
    "import pandas as pd\n",
    "import numpy as np\n",
    "from sklearn.preprocessing import StandardScaler\n",
    "from scipy import stats\n",
    "\n",
    "# Load the dataset\n",
    "df = pd.read_csv('//home/shubh-k-pc/Documents/AIML/house-price-prediction-model-main/data/House Price India.csv')\n",
    "df.head()\n",
    "df.tail()\n",
    "df.describe()\n",
    "df.shape\n",
    "# Drop unwanted columns\n",
    "cols_to_drop = ['id', 'Date', 'Postal Code', 'living_area_renov', 'lot_area_renov']\n",
    "df_cleaned = df.drop(columns=cols_to_drop)\n",
    "\n",
    "# Log-transform the target variable (Price) to reduce skewness\n",
    "df_cleaned['Price'] = np.log1p(df_cleaned['Price'])\n",
    "\n",
    "# Identify numeric features excluding the target\n",
    "feature_cols = df_cleaned.drop(columns=['Price']).select_dtypes(include=[np.number]).columns.tolist()\n",
    "\n",
    "# Remove outliers using Z-score method\n",
    "z_scores = np.abs(stats.zscore(df_cleaned[feature_cols]))\n",
    "df_cleaned = df_cleaned[(z_scores < 3).all(axis=1)]\n",
    "\n",
    "# Standardize features using StandardScaler\n",
    "scaler = StandardScaler()\n",
    "df_cleaned[feature_cols] = scaler.fit_transform(df_cleaned[feature_cols])\n",
    "\n",
    "# Save the cleaned dataset to CSV\n",
    "df_cleaned.to_csv('house_price_india_cleaned.csv', index=False)\n",
    "\n",
    "# Show a preview of the final cleaned DataFrame\n",
    "print(df_cleaned.head())"
   ]
  }
 ],
 "metadata": {
  "kernelspec": {
   "display_name": ".venv",
   "language": "python",
   "name": "python3"
  },
  "language_info": {
   "codemirror_mode": {
    "name": "ipython",
    "version": 3
   },
   "file_extension": ".py",
   "mimetype": "text/x-python",
   "name": "python",
   "nbconvert_exporter": "python",
   "pygments_lexer": "ipython3",
   "version": "3.12.3"
  }
 },
 "nbformat": 4,
 "nbformat_minor": 5
}
